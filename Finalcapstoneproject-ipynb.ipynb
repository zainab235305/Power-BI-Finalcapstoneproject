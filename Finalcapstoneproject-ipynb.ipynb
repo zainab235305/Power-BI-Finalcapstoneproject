{
  "nbformat": 4,
  "nbformat_minor": 0,
  "metadata": {
    "colab": {
      "provenance": []
    },
    "kernelspec": {
      "name": "python3",
      "display_name": "Python 3"
    },
    "language_info": {
      "name": "python"
    }
  },
  "cells": [
    {
      "cell_type": "code",
      "execution_count": 2,
      "metadata": {
        "colab": {
          "base_uri": "https://localhost:8080/"
        },
        "id": "_2ZKkVwEFaP-",
        "outputId": "a27e6000-072e-40df-9400-6d3ed0ec914e"
      },
      "outputs": [
        {
          "output_type": "stream",
          "name": "stdout",
          "text": [
            "Collecting pymysql\n",
            "  Downloading PyMySQL-1.1.0-py3-none-any.whl (44 kB)\n",
            "\u001b[?25l     \u001b[90m━━━━━━━━━━━━━━━━━━━━━━━━━━━━━━━━━━━━━━━━\u001b[0m \u001b[32m0.0/44.8 kB\u001b[0m \u001b[31m?\u001b[0m eta \u001b[36m-:--:--\u001b[0m\r\u001b[2K     \u001b[90m━━━━━━━━━━━━━━━━━━━━━━━━━━━━━━━━━━━━━━━━\u001b[0m \u001b[32m44.8/44.8 kB\u001b[0m \u001b[31m1.3 MB/s\u001b[0m eta \u001b[36m0:00:00\u001b[0m\n",
            "\u001b[?25hInstalling collected packages: pymysql\n",
            "Successfully installed pymysql-1.1.0\n"
          ]
        }
      ],
      "source": [
        "!pip install pymysql"
      ]
    },
    {
      "cell_type": "code",
      "source": [
        "%load_ext sql"
      ],
      "metadata": {
        "id": "VaZrjdV253uS"
      },
      "execution_count": 3,
      "outputs": []
    },
    {
      "cell_type": "code",
      "source": [
        "%%sql sqlite:///global_crop_yields"
      ],
      "metadata": {
        "id": "1sdv9GR2GMwQ"
      },
      "execution_count": 4,
      "outputs": []
    },
    {
      "cell_type": "code",
      "source": [
        "%%sql\n",
        "CREATE TABLE arable_land(\n",
        "country VARCHAR(10),\n",
        "code VARCHAR(10),\n",
        "year INTEGERS(4) PRIMARY KEY,\n",
        "arable_land_needed DECIMAL(7,5)\n",
        ");"
      ],
      "metadata": {
        "id": "-4tLecqQG0oj",
        "colab": {
          "base_uri": "https://localhost:8080/"
        },
        "outputId": "4b5e90c8-e6f6-4c13-9790-999f135c6344"
      },
      "execution_count": 5,
      "outputs": [
        {
          "output_type": "stream",
          "name": "stdout",
          "text": [
            " * sqlite:///global_crop_yields\n",
            "Done.\n"
          ]
        },
        {
          "output_type": "execute_result",
          "data": {
            "text/plain": [
              "[]"
            ]
          },
          "metadata": {},
          "execution_count": 5
        }
      ]
    },
    {
      "cell_type": "code",
      "source": [
        "%%sql\n",
        "INSERT INTO arable_land\n",
        "(country,code,year,arable_land_needed)\n",
        "VALUES\n",
        "('Kenya',\t'KEN'\t,2010\t,0.298362976),\n",
        "('Kenya',\t'KEN'\t,2011\t,0.346233858),\n",
        "('Kenya',\t'KEN'\t,2012\t,0.315946765),\n",
        "('Kenya',\t'KEN'\t,2013\t,0.295288093),\n",
        "('Kenya',\t'KEN'\t,2014\t,0.290538033)\n",
        ";"
      ],
      "metadata": {
        "colab": {
          "base_uri": "https://localhost:8080/"
        },
        "id": "TgxWxACS0-QH",
        "outputId": "d8585de3-929c-46c7-e310-056f31cf1e17"
      },
      "execution_count": 9,
      "outputs": [
        {
          "output_type": "stream",
          "name": "stdout",
          "text": [
            " * sqlite:///global_crop_yields\n",
            "5 rows affected.\n"
          ]
        },
        {
          "output_type": "execute_result",
          "data": {
            "text/plain": [
              "[]"
            ]
          },
          "metadata": {},
          "execution_count": 9
        }
      ]
    },
    {
      "cell_type": "code",
      "source": [
        "%%sql\n",
        "CREATE TABLE cereal_crop_yield_vs_fertilizer_application(\n",
        "country VARCHAR(10),\n",
        "code VARCHAR(5),\n",
        "year VARCHAR(4) PRIMARY KEY,\n",
        "cereal_yield DECIMAL(7,5),\n",
        "Nitrogen_fertilizer_use DECIMAL(7,5)\n",
        ");"
      ],
      "metadata": {
        "colab": {
          "base_uri": "https://localhost:8080/"
        },
        "id": "s_hpI9c2XjbQ",
        "outputId": "d627f714-5b00-4e02-987b-897d4b485780"
      },
      "execution_count": 12,
      "outputs": [
        {
          "output_type": "stream",
          "name": "stdout",
          "text": [
            " * sqlite:///global_crop_yields\n",
            "Done.\n"
          ]
        },
        {
          "output_type": "execute_result",
          "data": {
            "text/plain": [
              "[]"
            ]
          },
          "metadata": {},
          "execution_count": 12
        }
      ]
    },
    {
      "cell_type": "code",
      "source": [
        "%%sql\n",
        "INSERT INTO cereal_crop_yield_vs_fertilizer_application\n",
        "(country,code,year,cereal_yield,Nitrogen_fertilizer_use)\n",
        "VALUES\n",
        "('Kenya',\t'KEN',\t2010,\t1.7101000000000002,\t11.76),\n",
        "('Kenya',\t'KEN',\t2011,\t1.5146000000000002,\t17.69),\n",
        "('Kenya', 'KEN',\t2012,\t1.7448000000000001,\t14.24),\n",
        "('Kenya',\t'KEN',\t2013,\t1.6615,\t20.36 ),\n",
        "('Kenya',\t'KEN',\t2014,\t1.5834000000000001,\t36.00)\n",
        ";"
      ],
      "metadata": {
        "colab": {
          "base_uri": "https://localhost:8080/"
        },
        "id": "bq9HDcD80Kcd",
        "outputId": "9223165f-4594-422b-f31a-e396305128bd"
      },
      "execution_count": 13,
      "outputs": [
        {
          "output_type": "stream",
          "name": "stdout",
          "text": [
            " * sqlite:///global_crop_yields\n",
            "5 rows affected.\n"
          ]
        },
        {
          "output_type": "execute_result",
          "data": {
            "text/plain": [
              "[]"
            ]
          },
          "metadata": {},
          "execution_count": 13
        }
      ]
    },
    {
      "cell_type": "code",
      "source": [
        "%%sql\n",
        "CREATE TABLE cereal_crop_yield_vs_tractor_input(\n",
        "country VARCHAR(10),\n",
        "code VARCHAR(5),\n",
        "year VARCHAR(4) PRIMARY KEY,\n",
        "tractors INTEGERS(50) DEFAULT NULL,\n",
        "cereal_yield DECIMAL(5,1) DEFAULT NULL,\n",
        "total_population INTEGERS(15) DEFAULT NULL\n",
        ");"
      ],
      "metadata": {
        "colab": {
          "base_uri": "https://localhost:8080/"
        },
        "id": "v6RZvShmga4-",
        "outputId": "f4aa801b-8724-489c-a287-f0d1973a73aa"
      },
      "execution_count": 15,
      "outputs": [
        {
          "output_type": "stream",
          "name": "stdout",
          "text": [
            " * sqlite:///global_crop_yields\n",
            "Done.\n"
          ]
        },
        {
          "output_type": "execute_result",
          "data": {
            "text/plain": [
              "[]"
            ]
          },
          "metadata": {},
          "execution_count": 15
        }
      ]
    },
    {
      "cell_type": "code",
      "source": [
        "%%sql\n",
        "INSERT INTO cereal_crop_yield_vs_tractor_input\n",
        "(country,code,year,tractors,cereal_yield,total_population)\n",
        "VALUES\n",
        "('Kenya','KEN',2010,'',1710.1,42031000 ),\n",
        "('Kenya','KEN',2011,'',1514.6,43178000 ),\n",
        "('Kenya','KEN',2012,'',1744.8,44343000 ),\n",
        "('Kenya','KEN',2013,'',1661.5,45520000 ),\n",
        "('Kenya','KEN',2014,'',1583.4,46700000 )\n",
        ";"
      ],
      "metadata": {
        "colab": {
          "base_uri": "https://localhost:8080/"
        },
        "id": "noq1q0zmzQ8O",
        "outputId": "9ab2e3f3-563a-4162-a40c-0743faa0b6a5"
      },
      "execution_count": 17,
      "outputs": [
        {
          "output_type": "stream",
          "name": "stdout",
          "text": [
            " * sqlite:///global_crop_yields\n",
            "5 rows affected.\n"
          ]
        },
        {
          "output_type": "execute_result",
          "data": {
            "text/plain": [
              "[]"
            ]
          },
          "metadata": {},
          "execution_count": 17
        }
      ]
    },
    {
      "cell_type": "code",
      "source": [
        "%%sql\n",
        "CREATE TABLE key_crop_yields(\n",
        "country VARCHAR(10),\n",
        "code VARCHAR(10),\n",
        "year VARCHAR(4) PRIMARY KEY,\n",
        "wheat DECIMAL(7,5) DEFAULT NULL,\n",
        "rice DECIMAL(7,5) DEFAULT NULL,\n",
        "maize DECIMAL(7,5) DEFAULT NULL,\n",
        "soybean DECIMAL(7,5) DEFAULT NULL,\n",
        "potatoes DECIMAL(7,5) DEFAULT NULL,\n",
        "beans DECIMAL(7,5) DEFAULT NULL,\n",
        "peas DECIMAL(7,5) DEFAULT NULL,\n",
        "cassava DECIMAL(7,5) DEFAULT NULL,\n",
        "barley DECIMAL(7,5) DEFAULT NULL,\n",
        "cocoa_beans DECIMAL(7,5) DEFAULT NULL,\n",
        "bananas DECIMAL(7,5) DEFAULT NULL\n",
        ");"
      ],
      "metadata": {
        "colab": {
          "base_uri": "https://localhost:8080/"
        },
        "id": "xZDyh3xMc0Ja",
        "outputId": "06a81be2-1b9f-434c-fc65-90f0201e4f5f"
      },
      "execution_count": 18,
      "outputs": [
        {
          "output_type": "stream",
          "name": "stdout",
          "text": [
            " * sqlite:///global_crop_yields\n",
            "Done.\n"
          ]
        },
        {
          "output_type": "execute_result",
          "data": {
            "text/plain": [
              "[]"
            ]
          },
          "metadata": {},
          "execution_count": 18
        }
      ]
    },
    {
      "cell_type": "code",
      "source": [
        "%%sql\n",
        "SELECT *\n",
        "FROM key_crop_yields"
      ],
      "metadata": {
        "id": "A9ZUJnstx1Ux"
      },
      "execution_count": null,
      "outputs": []
    },
    {
      "cell_type": "code",
      "source": [
        "%%sql\n",
        "INSERT INTO key_crop_yields\n",
        "(country,code,year,wheat,rice,maize,soybean,potatoes,beans,peas,cassava,barley,cocoa_beans,bananas)\n",
        "VALUES\n",
        "('Kenya','KEN',2010,3.1991,4.2384,1.7251,0.9500000000000001,22.4279,0.5666,'',5.2521,2.5562,'',18.968400000000003 ),\n",
        "('Kenya','KEN',2011,2.0415,3.9676,1.584,1.2578,19.169,0.5572,'',11.2309,3.4641,'',24.287300000000002 ),\n",
        "('Kenya','KEN',2012,2.972,4.6643,1.7366000000000001,1.4997,20.338900000000002,0.5897,'',12.727300000000001,4.3949,'',20.823800000000002 ),\n",
        "('Kenya','KEN',2013,2.7602,3.9955000000000003,1.6922000000000001,1.2219,14.426200000000001,0.6594,'',14.247,3.3481,'',22.8503 ),\n",
        "('Kenya','KEN',2014,1.5549000000000002,3.9543000000000004,1.6602000000000001,1.0678,14.0655,0.5853,'',13.471300000000001,3.0374000000000003,'',27.7056 )\n",
        ";"
      ],
      "metadata": {
        "colab": {
          "base_uri": "https://localhost:8080/"
        },
        "id": "PzsWTbYOto2e",
        "outputId": "dea558d5-0a03-4858-f6c0-02a385b7617f"
      },
      "execution_count": 19,
      "outputs": [
        {
          "output_type": "stream",
          "name": "stdout",
          "text": [
            " * sqlite:///global_crop_yields\n",
            "5 rows affected.\n"
          ]
        },
        {
          "output_type": "execute_result",
          "data": {
            "text/plain": [
              "[]"
            ]
          },
          "metadata": {},
          "execution_count": 19
        }
      ]
    },
    {
      "cell_type": "code",
      "source": [
        "%%sql\n",
        "CREATE TABLE land_use_vs_yield_change_in_cereal_productions(\n",
        "country VARCHAR(10),\n",
        "code VARCHAR(10),\n",
        "year VARCHAR(4) PRIMARY KEY,\n",
        "cereal_yield_index INTEGERS(4) DEFAULT NULL,\n",
        "production_since_1961 INTEGERS(4) DEFAULT NULL,\n",
        "total_population INTEGERS(20) DEFAULT NULL\n",
        ");\n"
      ],
      "metadata": {
        "colab": {
          "base_uri": "https://localhost:8080/"
        },
        "id": "bXm8Yn6Tjtj2",
        "outputId": "0c32d846-7727-425e-b52a-b926a351b2b9"
      },
      "execution_count": 22,
      "outputs": [
        {
          "output_type": "stream",
          "name": "stdout",
          "text": [
            " * sqlite:///global_crop_yields\n",
            "Done.\n"
          ]
        },
        {
          "output_type": "execute_result",
          "data": {
            "text/plain": [
              "[]"
            ]
          },
          "metadata": {},
          "execution_count": 22
        }
      ]
    },
    {
      "cell_type": "code",
      "source": [
        "%%sql\n",
        "INSERT INTO land_use_vs_yield_change_in_cereal_productions\n",
        "(country,code,year,cereal_yield_index,production_since_1961,total_population)\n",
        "VALUES\n",
        "('Kenya','KEN',2010,137,230,42031000 ),\n",
        "('Kenya','KEN',2011,122,242,43178000 ),\n",
        "('Kenya','KEN',2012,140,244,44343000 ),\n",
        "('Kenya','KEN',2013,133,247,45520000 ),\n",
        "('Kenya','KEN',2014,131,241,46700000 )\n",
        ";"
      ],
      "metadata": {
        "colab": {
          "base_uri": "https://localhost:8080/"
        },
        "id": "R4Al-K31ykdG",
        "outputId": "a8068c95-c630-47d9-89be-f3c849679068"
      },
      "execution_count": 24,
      "outputs": [
        {
          "output_type": "stream",
          "name": "stdout",
          "text": [
            " * sqlite:///global_crop_yields\n",
            "5 rows affected.\n"
          ]
        },
        {
          "output_type": "execute_result",
          "data": {
            "text/plain": [
              "[]"
            ]
          },
          "metadata": {},
          "execution_count": 24
        }
      ]
    }
  ]
}